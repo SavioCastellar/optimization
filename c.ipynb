{
  "nbformat": 4,
  "nbformat_minor": 0,
  "metadata": {
    "colab": {
      "name": "c.ipynb",
      "provenance": [],
      "authorship_tag": "ABX9TyOuqgCWgS8rvyD7+Qf493tq",
      "include_colab_link": true
    },
    "kernelspec": {
      "name": "python3",
      "display_name": "Python 3"
    }
  },
  "cells": [
    {
      "cell_type": "markdown",
      "metadata": {
        "id": "view-in-github",
        "colab_type": "text"
      },
      "source": [
        "<a href=\"https://colab.research.google.com/github/SavioCastellar/optimization/blob/lista1/c.ipynb\" target=\"_parent\"><img src=\"https://colab.research.google.com/assets/colab-badge.svg\" alt=\"Open In Colab\"/></a>"
      ]
    },
    {
      "cell_type": "markdown",
      "metadata": {
        "id": "v8WKxXd3fhM9"
      },
      "source": [
        "### cfg"
      ]
    },
    {
      "cell_type": "code",
      "metadata": {
        "colab": {
          "base_uri": "https://localhost:8080/"
        },
        "id": "oo6OqJEBvNqL",
        "outputId": "c5933751-a237-4b80-f6eb-c33da2efac9d"
      },
      "source": [
        "!pip install mip"
      ],
      "execution_count": null,
      "outputs": [
        {
          "output_type": "stream",
          "text": [
            "Collecting mip\n",
            "\u001b[?25l  Downloading https://files.pythonhosted.org/packages/e5/7c/615a417b8b74dde4c3573f09c79612e3e0ed8c9b9488daf67e86cde350d2/mip-1.13.0-py3-none-any.whl (48.0MB)\n",
            "\u001b[K     |████████████████████████████████| 48.0MB 92kB/s \n",
            "\u001b[?25hRequirement already satisfied: cffi in /usr/local/lib/python3.6/dist-packages (from mip) (1.14.4)\n",
            "Requirement already satisfied: pycparser in /usr/local/lib/python3.6/dist-packages (from cffi->mip) (2.20)\n",
            "Installing collected packages: mip\n",
            "Successfully installed mip-1.13.0\n"
          ],
          "name": "stdout"
        }
      ]
    },
    {
      "cell_type": "code",
      "metadata": {
        "id": "IgpjO1aGv4kN"
      },
      "source": [
        "from mip import Model, xsum, INTEGER, MAXIMIZE, MINIMIZE"
      ],
      "execution_count": null,
      "outputs": []
    },
    {
      "cell_type": "markdown",
      "metadata": {
        "id": "xOKmJYMDdqB_"
      },
      "source": [
        "###Problema do Custo de Transporte"
      ]
    },
    {
      "cell_type": "markdown",
      "metadata": {
        "id": "4g12RoC8AUmn"
      },
      "source": [
        "Definir variáveis"
      ]
    },
    {
      "cell_type": "code",
      "metadata": {
        "id": "3MI48EeTd6Me"
      },
      "source": [
        "cost = [[40, 50, 55, 9999999],\r\n",
        "        [9999999, 60, 30, 50]]\r\n",
        "\r\n",
        "m = Model('Casacos', sense=MINIMIZE)\r\n",
        "\r\n",
        "x = [[m.add_var(var_type=INTEGER,lb=0) for j in range(4)] for i in range(2)]"
      ],
      "execution_count": null,
      "outputs": []
    },
    {
      "cell_type": "markdown",
      "metadata": {
        "id": "A0DTW8QL_amr"
      },
      "source": [
        "Função objetivo"
      ]
    },
    {
      "cell_type": "code",
      "metadata": {
        "id": "yvFr6ufZ_aH9"
      },
      "source": [
        "m.objective = xsum(cost[i][j]*x[i][j] for i in range(2) for j in range(4))"
      ],
      "execution_count": null,
      "outputs": []
    },
    {
      "cell_type": "markdown",
      "metadata": {
        "id": "cMXX1dI4ABQK"
      },
      "source": [
        "Restrições"
      ]
    },
    {
      "cell_type": "code",
      "metadata": {
        "id": "wCoDx46dADJc"
      },
      "source": [
        "m += x[1][0] == 0\r\n",
        "m += x[0][3] == 0\r\n",
        "m += xsum(x[0][j] for j in range(4)) == 6000\r\n",
        "m += xsum(x[1][j] for j in range(4)) == 9000\r\n",
        "m += x[0][0] <= 2500\r\n",
        "m += x[1][3] <= 3500 \r\n",
        "m += xsum(x[i][1] for i in range(2)) <= 4500\r\n",
        "m += xsum(x[i][2] for i in range(2)) <= 5500"
      ],
      "execution_count": null,
      "outputs": []
    },
    {
      "cell_type": "markdown",
      "metadata": {
        "id": "QPNkzeA7AHAY"
      },
      "source": [
        "Execução"
      ]
    },
    {
      "cell_type": "code",
      "metadata": {
        "colab": {
          "base_uri": "https://localhost:8080/"
        },
        "id": "9WcnAy3lAJBU",
        "outputId": "14bb579a-1e89-47f2-875f-3ab7c8b20155"
      },
      "source": [
        "m.optimize()"
      ],
      "execution_count": null,
      "outputs": [
        {
          "output_type": "execute_result",
          "data": {
            "text/plain": [
              "<OptimizationStatus.OPTIMAL: 0>"
            ]
          },
          "metadata": {
            "tags": []
          },
          "execution_count": 19
        }
      ]
    },
    {
      "cell_type": "code",
      "metadata": {
        "colab": {
          "base_uri": "https://localhost:8080/"
        },
        "id": "o4LOLTHJAOIJ",
        "outputId": "d4d60af1-15b4-4593-9e82-857b1421ebd2"
      },
      "source": [
        "print('Optimal Solution: {}'.format([x[i][j].x for i in range(2) for j in range(4)]))"
      ],
      "execution_count": null,
      "outputs": [
        {
          "output_type": "stream",
          "text": [
            "Optimal Solution: [2500.0, 3500.0, 0.0, 0.0, 0.0, 0.0, 5500.0, 3500.0]\n"
          ],
          "name": "stdout"
        }
      ]
    }
  ]
}