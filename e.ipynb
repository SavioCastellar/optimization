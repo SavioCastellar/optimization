{
  "nbformat": 4,
  "nbformat_minor": 0,
  "metadata": {
    "colab": {
      "name": "e.ipynb",
      "provenance": [],
      "collapsed_sections": [
        "v8WKxXd3fhM9"
      ],
      "authorship_tag": "ABX9TyMKumeRnoQ8hPVYjXP6Y1df",
      "include_colab_link": true
    },
    "kernelspec": {
      "name": "python3",
      "display_name": "Python 3"
    }
  },
  "cells": [
    {
      "cell_type": "markdown",
      "metadata": {
        "id": "view-in-github",
        "colab_type": "text"
      },
      "source": [
        "<a href=\"https://colab.research.google.com/github/SavioCastellar/optimization/blob/lista1/e.ipynb\" target=\"_parent\"><img src=\"https://colab.research.google.com/assets/colab-badge.svg\" alt=\"Open In Colab\"/></a>"
      ]
    },
    {
      "cell_type": "markdown",
      "metadata": {
        "id": "v8WKxXd3fhM9"
      },
      "source": [
        "###cfg"
      ]
    },
    {
      "cell_type": "code",
      "metadata": {
        "colab": {
          "base_uri": "https://localhost:8080/"
        },
        "id": "oo6OqJEBvNqL",
        "outputId": "5ff1061f-b488-419b-cc88-8c82ad8820b1"
      },
      "source": [
        "!pip install mip"
      ],
      "execution_count": 1,
      "outputs": [
        {
          "output_type": "stream",
          "text": [
            "Collecting mip\n",
            "\u001b[?25l  Downloading https://files.pythonhosted.org/packages/e5/7c/615a417b8b74dde4c3573f09c79612e3e0ed8c9b9488daf67e86cde350d2/mip-1.13.0-py3-none-any.whl (48.0MB)\n",
            "\u001b[K     |████████████████████████████████| 48.0MB 76kB/s \n",
            "\u001b[?25hRequirement already satisfied: cffi in /usr/local/lib/python3.6/dist-packages (from mip) (1.14.4)\n",
            "Requirement already satisfied: pycparser in /usr/local/lib/python3.6/dist-packages (from cffi->mip) (2.20)\n",
            "Installing collected packages: mip\n",
            "Successfully installed mip-1.13.0\n"
          ],
          "name": "stdout"
        }
      ]
    },
    {
      "cell_type": "code",
      "metadata": {
        "id": "IgpjO1aGv4kN"
      },
      "source": [
        "from mip import Model, xsum, INTEGER, MAXIMIZE, MINIMIZE"
      ],
      "execution_count": 2,
      "outputs": []
    },
    {
      "cell_type": "markdown",
      "metadata": {
        "id": "M56lsRS4ZVpM"
      },
      "source": [
        "## O Problema da Dieta"
      ]
    },
    {
      "cell_type": "markdown",
      "metadata": {
        "id": "1Yqplt78_zbA"
      },
      "source": [
        "Variáveis"
      ]
    },
    {
      "cell_type": "code",
      "metadata": {
        "id": "0rgisv6bZb4B"
      },
      "source": [
        "nvars = 4\r\n",
        "obj_coef = [2, 4, 1.5, 1]\r\n",
        "#g_coef = [2, 2, 10, 20],[50, 20, 10, 30],[80, 70, 10, 80]\r\n",
        "# Não consegui acessar cada lista em g_coef de forma separada\r\n",
        "a = [2, 2, 10, 20]\r\n",
        "c = [50, 20, 10, 30]\r\n",
        "d = [80, 70, 10, 80]\r\n",
        "\r\n",
        "m = Model('Dieta', sense=MINIMIZE)\r\n",
        "\r\n",
        "x = [m.add_var(var_type=INTEGER,lb=0) for i in range(nvars)]"
      ],
      "execution_count": 18,
      "outputs": []
    },
    {
      "cell_type": "markdown",
      "metadata": {
        "id": "L8pZy0fJBAS1"
      },
      "source": [
        "Função objetivo"
      ]
    },
    {
      "cell_type": "code",
      "metadata": {
        "id": "i6Y7XAFJBD4d"
      },
      "source": [
        "m.objective = xsum(obj_coef[i]*x[i] for i in range(nvars))"
      ],
      "execution_count": 19,
      "outputs": []
    },
    {
      "cell_type": "markdown",
      "metadata": {
        "id": "_lxekD6XBj9d"
      },
      "source": [
        "Restrições\r\n",
        "\r\n",
        "*//Como acessar cada lista do g_coef?*"
      ]
    },
    {
      "cell_type": "code",
      "metadata": {
        "id": "_yxd3miUBmzj"
      },
      "source": [
        "#m += 2*x[0] + 2*x[1] + 10*x[2] +20*x[3] >= 11\r\n",
        "#m += 50*x[0] + 20*x[1] + 10*x[2] +30*x[3] >= 70\r\n",
        "#m += 80*x[0] + 70*x[1] + 10*x[2] +80*x[3] >= 250\r\n",
        "\r\n",
        "m += xsum(a[i]*x[i] for i in range(nvars)) >= 11\r\n",
        "m += xsum(c[i]*x[i] for i in range(nvars)) >= 70\r\n",
        "m += xsum(d[i]*x[i] for i in range(nvars)) >= 250"
      ],
      "execution_count": 20,
      "outputs": []
    },
    {
      "cell_type": "markdown",
      "metadata": {
        "id": "aT9MxoWLIdz_"
      },
      "source": [
        "Execução"
      ]
    },
    {
      "cell_type": "code",
      "metadata": {
        "colab": {
          "base_uri": "https://localhost:8080/"
        },
        "id": "j3TgjsMYIgP9",
        "outputId": "a6488cd6-2cb9-40f0-e2df-dd1804a225a6"
      },
      "source": [
        "m.optimize()"
      ],
      "execution_count": 21,
      "outputs": [
        {
          "output_type": "execute_result",
          "data": {
            "text/plain": [
              "<OptimizationStatus.OPTIMAL: 0>"
            ]
          },
          "metadata": {
            "tags": []
          },
          "execution_count": 21
        }
      ]
    },
    {
      "cell_type": "code",
      "metadata": {
        "colab": {
          "base_uri": "https://localhost:8080/"
        },
        "id": "SKia-wUkIkJz",
        "outputId": "59dbeb5c-9f34-4e52-f2cf-1dfd10fd5cb2"
      },
      "source": [
        "print('Optimal Solution: {}'.format([x[i].x for i in range(nvars)]))"
      ],
      "execution_count": 22,
      "outputs": [
        {
          "output_type": "stream",
          "text": [
            "Optimal Solution: [0.0, 0.0, 0.0, 4.0]\n"
          ],
          "name": "stdout"
        }
      ]
    }
  ]
}