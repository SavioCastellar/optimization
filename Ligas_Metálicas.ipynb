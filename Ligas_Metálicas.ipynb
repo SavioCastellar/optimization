{
  "nbformat": 4,
  "nbformat_minor": 0,
  "metadata": {
    "colab": {
      "name": "Ligas-Metálicas.ipynb",
      "provenance": [],
      "authorship_tag": "ABX9TyM7Q7KlBelHce1P4DrBOQw5"
    },
    "kernelspec": {
      "name": "python3",
      "display_name": "Python 3"
    }
  },
  "cells": [
    {
      "cell_type": "markdown",
      "metadata": {
        "id": "v8WKxXd3fhM9"
      },
      "source": [
        "### cfg"
      ]
    },
    {
      "cell_type": "code",
      "metadata": {
        "colab": {
          "base_uri": "https://localhost:8080/"
        },
        "id": "oo6OqJEBvNqL",
        "outputId": "c5933751-a237-4b80-f6eb-c33da2efac9d"
      },
      "source": [
        "!pip install mip"
      ],
      "execution_count": null,
      "outputs": [
        {
          "output_type": "stream",
          "text": [
            "Collecting mip\n",
            "\u001b[?25l  Downloading https://files.pythonhosted.org/packages/e5/7c/615a417b8b74dde4c3573f09c79612e3e0ed8c9b9488daf67e86cde350d2/mip-1.13.0-py3-none-any.whl (48.0MB)\n",
            "\u001b[K     |████████████████████████████████| 48.0MB 92kB/s \n",
            "\u001b[?25hRequirement already satisfied: cffi in /usr/local/lib/python3.6/dist-packages (from mip) (1.14.4)\n",
            "Requirement already satisfied: pycparser in /usr/local/lib/python3.6/dist-packages (from cffi->mip) (2.20)\n",
            "Installing collected packages: mip\n",
            "Successfully installed mip-1.13.0\n"
          ],
          "name": "stdout"
        }
      ]
    },
    {
      "cell_type": "code",
      "metadata": {
        "id": "IgpjO1aGv4kN"
      },
      "source": [
        "from mip import Model, xsum, INTEGER, MAXIMIZE, MINIMIZE"
      ],
      "execution_count": null,
      "outputs": []
    },
    {
      "cell_type": "markdown",
      "metadata": {
        "id": "L7SLI_nAB0Fg"
      },
      "source": [
        "### Problema das Ligas Metálicas"
      ]
    },
    {
      "cell_type": "markdown",
      "metadata": {
        "id": "avNMhbn7CBj2"
      },
      "source": [
        "Definir variáveis"
      ]
    },
    {
      "cell_type": "code",
      "metadata": {
        "id": "l7Y6FxgrB_1V"
      },
      "source": [
        "nvars = 2\r\n",
        "obj_coef = [3000, 5000]\r\n",
        "\r\n",
        "m = Model('Ligas',sense=MAXIMIZE)\r\n",
        "\r\n",
        "x = [m.add_var(var_type=INTEGER,lb=0) for i in range(2)]"
      ],
      "execution_count": null,
      "outputs": []
    },
    {
      "cell_type": "markdown",
      "metadata": {
        "id": "DxwqsYT1NCYo"
      },
      "source": [
        "Função objetiva"
      ]
    },
    {
      "cell_type": "code",
      "metadata": {
        "id": "hY8GFOOUNG48"
      },
      "source": [
        "m.objective = xsum(obj_coef[i]*x[i] for i in range(nvars))"
      ],
      "execution_count": null,
      "outputs": []
    },
    {
      "cell_type": "markdown",
      "metadata": {
        "id": "jOFVG-oJNTxY"
      },
      "source": [
        "Restrições"
      ]
    },
    {
      "cell_type": "code",
      "metadata": {
        "id": "CoBzgF_SRo26"
      },
      "source": [
        "m += 0.5*x[0] + 0.2*x[1] <= 16\r\n",
        "m += 0.25*x[0] + 0.3*x[1] <= 11\r\n",
        "m += 0.25*x[0] + 0.5*x[1] <= 15"
      ],
      "execution_count": null,
      "outputs": []
    },
    {
      "cell_type": "markdown",
      "metadata": {
        "id": "yR6wHnj-P7sz"
      },
      "source": [
        "Execução"
      ]
    },
    {
      "cell_type": "code",
      "metadata": {
        "colab": {
          "base_uri": "https://localhost:8080/"
        },
        "id": "1wQ2E9faQC4c",
        "outputId": "e9c9863f-d46e-4580-e3c1-d38afd8b21de"
      },
      "source": [
        "m.optimize()"
      ],
      "execution_count": null,
      "outputs": [
        {
          "output_type": "execute_result",
          "data": {
            "text/plain": [
              "<OptimizationStatus.OPTIMAL: 0>"
            ]
          },
          "metadata": {
            "tags": []
          },
          "execution_count": 24
        }
      ]
    },
    {
      "cell_type": "code",
      "metadata": {
        "colab": {
          "base_uri": "https://localhost:8080/"
        },
        "id": "6bo81NooQH5N",
        "outputId": "38ec88c1-5660-44d2-f93d-b5330fe77273"
      },
      "source": [
        "print('Optimal Solution: {}'.format([x[i].x for i in range(nvars)]))"
      ],
      "execution_count": null,
      "outputs": [
        {
          "output_type": "stream",
          "text": [
            "Optimal Solution: [20.0, 20.0]\n"
          ],
          "name": "stdout"
        }
      ]
    }
  ]
}