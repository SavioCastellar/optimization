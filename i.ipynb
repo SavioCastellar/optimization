{
  "nbformat": 4,
  "nbformat_minor": 0,
  "metadata": {
    "colab": {
      "name": "i.ipynb",
      "provenance": [],
      "collapsed_sections": [
        "SIGNjaHNyVfc",
        "veXHNA4VyzMg"
      ],
      "authorship_tag": "ABX9TyNmykGOb52G1cXSd+Rz2XgB",
      "include_colab_link": true
    },
    "kernelspec": {
      "name": "python3",
      "display_name": "Python 3"
    }
  },
  "cells": [
    {
      "cell_type": "markdown",
      "metadata": {
        "id": "view-in-github",
        "colab_type": "text"
      },
      "source": [
        "<a href=\"https://colab.research.google.com/github/SavioCastellar/optimization/blob/lista1/i.ipynb\" target=\"_parent\"><img src=\"https://colab.research.google.com/assets/colab-badge.svg\" alt=\"Open In Colab\"/></a>"
      ]
    },
    {
      "cell_type": "markdown",
      "metadata": {
        "id": "SIGNjaHNyVfc"
      },
      "source": [
        "###cfg"
      ]
    },
    {
      "cell_type": "code",
      "metadata": {
        "colab": {
          "base_uri": "https://localhost:8080/"
        },
        "id": "FjDeDzbTyNUI",
        "outputId": "cd2749af-aadc-4bdf-a847-4f2437974158"
      },
      "source": [
        "!pip install mip"
      ],
      "execution_count": 1,
      "outputs": [
        {
          "output_type": "stream",
          "text": [
            "Collecting mip\n",
            "\u001b[?25l  Downloading https://files.pythonhosted.org/packages/e5/7c/615a417b8b74dde4c3573f09c79612e3e0ed8c9b9488daf67e86cde350d2/mip-1.13.0-py3-none-any.whl (48.0MB)\n",
            "\u001b[K     |████████████████████████████████| 48.0MB 96kB/s \n",
            "\u001b[?25hRequirement already satisfied: cffi in /usr/local/lib/python3.6/dist-packages (from mip) (1.14.4)\n",
            "Requirement already satisfied: pycparser in /usr/local/lib/python3.6/dist-packages (from cffi->mip) (2.20)\n",
            "Installing collected packages: mip\n",
            "Successfully installed mip-1.13.0\n"
          ],
          "name": "stdout"
        }
      ]
    },
    {
      "cell_type": "code",
      "metadata": {
        "id": "vbGewQvKyeug"
      },
      "source": [
        "from mip import Model, xsum, INTEGER, MAXIMIZE, MINIMIZE"
      ],
      "execution_count": 2,
      "outputs": []
    },
    {
      "cell_type": "markdown",
      "metadata": {
        "id": "veXHNA4VyzMg"
      },
      "source": [
        "###Problema da Fábrica de Camisas"
      ]
    },
    {
      "cell_type": "markdown",
      "metadata": {
        "id": "-L-9jtu8y-1e"
      },
      "source": [
        "Variáveis"
      ]
    },
    {
      "cell_type": "code",
      "metadata": {
        "id": "jgVpBsnoy-OG"
      },
      "source": [
        "nvars = 2\r\n",
        "lim = [150, 300] # limite de produção\r\n",
        "l = [5, 3.5] # lucro\r\n",
        "\r\n",
        "m = Model('Camisas', sense = MAXIMIZE)\r\n",
        "\r\n",
        "x = [m.add_var(var_type = INTEGER, lb = 0) for i in range(nvars)]"
      ],
      "execution_count": 3,
      "outputs": []
    },
    {
      "cell_type": "markdown",
      "metadata": {
        "id": "g8SgXBF8zynU"
      },
      "source": [
        "Função objetivo"
      ]
    },
    {
      "cell_type": "code",
      "metadata": {
        "id": "2z9cUYBmz00k"
      },
      "source": [
        "m.objective = xsum(l[i]*x[i] for i in range(nvars))"
      ],
      "execution_count": 4,
      "outputs": []
    },
    {
      "cell_type": "markdown",
      "metadata": {
        "id": "y1_IuWNL0C17"
      },
      "source": [
        "Restrições"
      ]
    },
    {
      "cell_type": "code",
      "metadata": {
        "id": "W59_a-L30EjT"
      },
      "source": [
        "m += 1.5*x[0] + x[1] <= 400\r\n",
        "for i in range(nvars):\r\n",
        "  m += x[i] <= lim[i]"
      ],
      "execution_count": 7,
      "outputs": []
    },
    {
      "cell_type": "markdown",
      "metadata": {
        "id": "NPbJFZwi0jiC"
      },
      "source": [
        "Execução"
      ]
    },
    {
      "cell_type": "code",
      "metadata": {
        "colab": {
          "base_uri": "https://localhost:8080/"
        },
        "id": "_bYE4nlH0k26",
        "outputId": "83472443-2801-491c-f05b-3a058522f197"
      },
      "source": [
        "m.optimize()"
      ],
      "execution_count": 8,
      "outputs": [
        {
          "output_type": "execute_result",
          "data": {
            "text/plain": [
              "<OptimizationStatus.OPTIMAL: 0>"
            ]
          },
          "metadata": {
            "tags": []
          },
          "execution_count": 8
        }
      ]
    },
    {
      "cell_type": "code",
      "metadata": {
        "colab": {
          "base_uri": "https://localhost:8080/"
        },
        "id": "bpRRcL6Z0mzq",
        "outputId": "4a41b9b4-75e1-4041-ecb5-d8967e9be4bd"
      },
      "source": [
        "print('Optimal Solution: {}'.format([x[i].x for i in range(nvars)]))"
      ],
      "execution_count": 9,
      "outputs": [
        {
          "output_type": "stream",
          "text": [
            "Optimal Solution: [68.0, 298.0]\n"
          ],
          "name": "stdout"
        }
      ]
    }
  ]
}