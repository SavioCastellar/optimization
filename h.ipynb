{
  "nbformat": 4,
  "nbformat_minor": 0,
  "metadata": {
    "colab": {
      "name": "h.ipynb",
      "provenance": [],
      "collapsed_sections": [],
      "authorship_tag": "ABX9TyMuZ3svIlLlsMB8hUTS2JFU",
      "include_colab_link": true
    },
    "kernelspec": {
      "name": "python3",
      "display_name": "Python 3"
    }
  },
  "cells": [
    {
      "cell_type": "markdown",
      "metadata": {
        "id": "view-in-github",
        "colab_type": "text"
      },
      "source": [
        "<a href=\"https://colab.research.google.com/github/SavioCastellar/optimization/blob/lista1/h.ipynb\" target=\"_parent\"><img src=\"https://colab.research.google.com/assets/colab-badge.svg\" alt=\"Open In Colab\"/></a>"
      ]
    },
    {
      "cell_type": "markdown",
      "metadata": {
        "id": "qWDc1n60stuM"
      },
      "source": [
        "###cfg"
      ]
    },
    {
      "cell_type": "code",
      "metadata": {
        "colab": {
          "base_uri": "https://localhost:8080/"
        },
        "id": "n--fse5Cr0yl",
        "outputId": "50b38d68-41f5-42cf-bcf4-7570ac1231f4"
      },
      "source": [
        "!pip install mip"
      ],
      "execution_count": 1,
      "outputs": [
        {
          "output_type": "stream",
          "text": [
            "Collecting mip\n",
            "\u001b[?25l  Downloading https://files.pythonhosted.org/packages/e5/7c/615a417b8b74dde4c3573f09c79612e3e0ed8c9b9488daf67e86cde350d2/mip-1.13.0-py3-none-any.whl (48.0MB)\n",
            "\u001b[K     |████████████████████████████████| 48.0MB 85kB/s \n",
            "\u001b[?25hRequirement already satisfied: cffi in /usr/local/lib/python3.6/dist-packages (from mip) (1.14.4)\n",
            "Requirement already satisfied: pycparser in /usr/local/lib/python3.6/dist-packages (from cffi->mip) (2.20)\n",
            "Installing collected packages: mip\n",
            "Successfully installed mip-1.13.0\n"
          ],
          "name": "stdout"
        }
      ]
    },
    {
      "cell_type": "code",
      "metadata": {
        "id": "GAXCEie1s3dQ"
      },
      "source": [
        "from mip import Model, xsum, INTEGER, MINIMIZE, MAXIMIZE"
      ],
      "execution_count": 3,
      "outputs": []
    },
    {
      "cell_type": "markdown",
      "metadata": {
        "id": "sbk_2p2ttR2h"
      },
      "source": [
        "###Problema da Pequena Fábrica"
      ]
    },
    {
      "cell_type": "markdown",
      "metadata": {
        "id": "wi-INUo5taUv"
      },
      "source": [
        "Variáveis"
      ]
    },
    {
      "cell_type": "code",
      "metadata": {
        "id": "HBeDpN05tYo3"
      },
      "source": [
        "nvars = 2\r\n",
        "r = [9, 7] # recurso\r\n",
        "t = [3, 4] # tempo\r\n",
        "l = [2, 5] # lucro\r\n",
        "\r\n",
        "m = Model('Fábrica', sense=MAXIMIZE)\r\n",
        "\r\n",
        "x = [m.add_var(var_type=INTEGER,lb=0) for i in range(nvars)]"
      ],
      "execution_count": 4,
      "outputs": []
    },
    {
      "cell_type": "markdown",
      "metadata": {
        "id": "yrJzgS-4t_r9"
      },
      "source": [
        "Função objetiva"
      ]
    },
    {
      "cell_type": "code",
      "metadata": {
        "id": "bUdSpUwauDl1"
      },
      "source": [
        "m.objective = xsum(l[i]*x[i] for i in range(nvars))"
      ],
      "execution_count": 5,
      "outputs": []
    },
    {
      "cell_type": "markdown",
      "metadata": {
        "id": "nbhlVmgZudsW"
      },
      "source": [
        "Restrições"
      ]
    },
    {
      "cell_type": "code",
      "metadata": {
        "id": "JL4QHipxufXj"
      },
      "source": [
        "# Recurso disponível\r\n",
        "m += xsum(r[i]*x[i] for i in range(nvars)) <= 300\r\n",
        "\r\n",
        "# Tempo disponível\r\n",
        "m += xsum(t[i]*x[i] for i in range(nvars)) <= 200"
      ],
      "execution_count": 6,
      "outputs": []
    },
    {
      "cell_type": "markdown",
      "metadata": {
        "id": "D9U7_0qsvOVq"
      },
      "source": [
        "Execução"
      ]
    },
    {
      "cell_type": "code",
      "metadata": {
        "colab": {
          "base_uri": "https://localhost:8080/"
        },
        "id": "abeDD1wTvROJ",
        "outputId": "2f4e1d76-45f3-4b08-af45-d92c24503d79"
      },
      "source": [
        "m.optimize()"
      ],
      "execution_count": 7,
      "outputs": [
        {
          "output_type": "execute_result",
          "data": {
            "text/plain": [
              "<OptimizationStatus.OPTIMAL: 0>"
            ]
          },
          "metadata": {
            "tags": []
          },
          "execution_count": 7
        }
      ]
    },
    {
      "cell_type": "code",
      "metadata": {
        "colab": {
          "base_uri": "https://localhost:8080/"
        },
        "id": "rici5JJ3vTHx",
        "outputId": "6458453b-7023-4781-cdd1-ae2f41b8f4b7"
      },
      "source": [
        "print('Optimal Solution: {}'.format([x[i].x for i in range(nvars)]))"
      ],
      "execution_count": 8,
      "outputs": [
        {
          "output_type": "stream",
          "text": [
            "Optimal Solution: [0.0, 42.0]\n"
          ],
          "name": "stdout"
        }
      ]
    }
  ]
}