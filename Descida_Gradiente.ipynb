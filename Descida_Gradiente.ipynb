{
  "nbformat": 4,
  "nbformat_minor": 0,
  "metadata": {
    "colab": {
      "name": "Descida_Gradiente.ipynb",
      "provenance": [],
      "collapsed_sections": [],
      "authorship_tag": "ABX9TyOCU4bFBIk2DWRTzAZroN5M",
      "include_colab_link": true
    },
    "kernelspec": {
      "name": "python3",
      "display_name": "Python 3"
    },
    "language_info": {
      "name": "python"
    }
  },
  "cells": [
    {
      "cell_type": "markdown",
      "metadata": {
        "id": "view-in-github",
        "colab_type": "text"
      },
      "source": [
        "<a href=\"https://colab.research.google.com/github/SavioCastellar/optimization/blob/atividades/Descida_Gradiente.ipynb\" target=\"_parent\"><img src=\"https://colab.research.google.com/assets/colab-badge.svg\" alt=\"Open In Colab\"/></a>"
      ]
    },
    {
      "cell_type": "markdown",
      "metadata": {
        "id": "_qBvgxg9sZUO"
      },
      "source": [
        "##Exemplo 1\n",
        "Uma variável"
      ]
    },
    {
      "cell_type": "code",
      "metadata": {
        "colab": {
          "base_uri": "https://localhost:8080/"
        },
        "id": "9B66MvctiU8_",
        "outputId": "1b6f7bbd-1174-411d-9f6f-84a1157a82ad"
      },
      "source": [
        "x1 = 1  # Escolha do ponto inicial\n",
        "y = 0.01  # Tamanho do passo\n",
        "lim = 100 # Limite de iterações\n",
        "i = 0\n",
        "\n",
        "grad = lambda x: 10*x  # Tem-se 'grad' é igual a 10x, para f(x) = 5x^2 + 10\n",
        "\n",
        "while i < lim:  # Critério de parada\n",
        "  x0 = x1\n",
        "  x1 = x1 - y * grad(x0)  # Valor do novo ponto\n",
        "  i += 1\n",
        "\n",
        "print('Solution: [{}]'.format(x1))  # Imprimir o valor do último ponto\n",
        "print(i)"
      ],
      "execution_count": 99,
      "outputs": [
        {
          "output_type": "stream",
          "text": [
            "Solution: [2.6561398887587476e-05]\n",
            "100\n"
          ],
          "name": "stdout"
        }
      ]
    },
    {
      "cell_type": "markdown",
      "metadata": {
        "id": "onoQYMII-0Ax"
      },
      "source": [
        "##Exemplo 2\n",
        "Duas variáveis"
      ]
    },
    {
      "cell_type": "code",
      "metadata": {
        "colab": {
          "base_uri": "https://localhost:8080/"
        },
        "id": "B_59Vq8Zii2t",
        "outputId": "82b34e28-9b1d-4fb0-ae5f-3c043b66258a"
      },
      "source": [
        "# Escolha do ponto inicial\n",
        "x1 = 1\n",
        "y1 = 1\n",
        "\n",
        "z = 0.01  # Tamanho do passo\n",
        "lim = 100 # Limite de iterações\n",
        "i = 0\n",
        "\n",
        "# f(x,y) = 5x^2 + 10y^2\n",
        "grad = lambda x: 10*x  # Gradiente de f(x)\n",
        "grad = lambda y: 10*y  # Gradiente de f(y)\n",
        "\n",
        "while i < lim:  # Critério de parada\n",
        "  x0 = x1\n",
        "  y0 = y1\n",
        "  \n",
        "  # Valor do novo ponto\n",
        "  x1 = x1 - z * grad(x0)\n",
        "  y1 = y1 - z * grad(y0)\n",
        "\n",
        "  i += 1\n",
        "\n",
        "print('Solution: [{},{}]'.format(x1,y1))  # Imprimir o valor do último ponto\n",
        "print(i)"
      ],
      "execution_count": 104,
      "outputs": [
        {
          "output_type": "stream",
          "text": [
            "Solution: [2.6561398887587476e-05,2.6561398887587476e-05]\n",
            "100\n"
          ],
          "name": "stdout"
        }
      ]
    }
  ]
}