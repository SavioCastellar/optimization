{
  "nbformat": 4,
  "nbformat_minor": 0,
  "metadata": {
    "colab": {
      "name": "g.ipynb",
      "provenance": [],
      "collapsed_sections": [],
      "authorship_tag": "ABX9TyM+fSk0s63zFuMpcYhbg6KU",
      "include_colab_link": true
    },
    "kernelspec": {
      "name": "python3",
      "display_name": "Python 3"
    }
  },
  "cells": [
    {
      "cell_type": "markdown",
      "metadata": {
        "id": "view-in-github",
        "colab_type": "text"
      },
      "source": [
        "<a href=\"https://colab.research.google.com/github/SavioCastellar/optimization/blob/lista1/g.ipynb\" target=\"_parent\"><img src=\"https://colab.research.google.com/assets/colab-badge.svg\" alt=\"Open In Colab\"/></a>"
      ]
    },
    {
      "cell_type": "markdown",
      "metadata": {
        "id": "b-xTZigdb3ti"
      },
      "source": [
        "###cfg"
      ]
    },
    {
      "cell_type": "code",
      "metadata": {
        "colab": {
          "base_uri": "https://localhost:8080/"
        },
        "id": "0JIurIhmbtpM",
        "outputId": "b69ea51d-bb5e-4980-ab24-886615749a19"
      },
      "source": [
        "!pip install mip"
      ],
      "execution_count": 2,
      "outputs": [
        {
          "output_type": "stream",
          "text": [
            "Collecting mip\n",
            "\u001b[?25l  Downloading https://files.pythonhosted.org/packages/e5/7c/615a417b8b74dde4c3573f09c79612e3e0ed8c9b9488daf67e86cde350d2/mip-1.13.0-py3-none-any.whl (48.0MB)\n",
            "\u001b[K     |████████████████████████████████| 48.0MB 89kB/s \n",
            "\u001b[?25hRequirement already satisfied: cffi in /usr/local/lib/python3.6/dist-packages (from mip) (1.14.4)\n",
            "Requirement already satisfied: pycparser in /usr/local/lib/python3.6/dist-packages (from cffi->mip) (2.20)\n",
            "Installing collected packages: mip\n",
            "Successfully installed mip-1.13.0\n"
          ],
          "name": "stdout"
        }
      ]
    },
    {
      "cell_type": "code",
      "metadata": {
        "id": "6J5cgs2Gb6dR"
      },
      "source": [
        "from mip import Model, xsum, MAXIMIZE, INTEGER"
      ],
      "execution_count": 3,
      "outputs": []
    },
    {
      "cell_type": "markdown",
      "metadata": {
        "id": "8NpFd8T_cInw"
      },
      "source": [
        "### Problema das Equipes de Engenharia"
      ]
    },
    {
      "cell_type": "markdown",
      "metadata": {
        "id": "3501GHZLcORZ"
      },
      "source": [
        "Variáveis"
      ]
    },
    {
      "cell_type": "code",
      "metadata": {
        "id": "9FqPAr0fcN7K"
      },
      "source": [
        "nvars = 2\r\n",
        "\r\n",
        "m = Model('Campeonato', sense=MAXIMIZE)\r\n",
        "\r\n",
        "x = [m.add_var(lb=0) for i in range(nvars)]"
      ],
      "execution_count": 64,
      "outputs": []
    },
    {
      "cell_type": "markdown",
      "metadata": {
        "id": "j2ASgKy8cPfY"
      },
      "source": [
        "Função objetivo"
      ]
    },
    {
      "cell_type": "code",
      "metadata": {
        "id": "_Pr_4NtgcRkB"
      },
      "source": [
        "m.objective = x[0]"
      ],
      "execution_count": 65,
      "outputs": []
    },
    {
      "cell_type": "markdown",
      "metadata": {
        "id": "cXk03k28cRzY"
      },
      "source": [
        "Restrições"
      ]
    },
    {
      "cell_type": "code",
      "metadata": {
        "id": "7WgH5KtMcTQ_"
      },
      "source": [
        "m += x[1] <= 1\r\n",
        "m += 80*x[1] + 20*(1-x[1]) >= x[0]    # Equipe B utilizando estabilizador\r\n",
        "m += 40*x[1] + 80*(1-x[1]) >= x[0]    # Equipe B normal"
      ],
      "execution_count": 66,
      "outputs": []
    },
    {
      "cell_type": "markdown",
      "metadata": {
        "id": "rir0hGOicTq0"
      },
      "source": [
        "Execução"
      ]
    },
    {
      "cell_type": "code",
      "metadata": {
        "colab": {
          "base_uri": "https://localhost:8080/"
        },
        "id": "d6FNdMj6cVF5",
        "outputId": "7c183768-311d-4af4-bbda-ea416cb5f1d6"
      },
      "source": [
        "m.optimize()"
      ],
      "execution_count": 67,
      "outputs": [
        {
          "output_type": "execute_result",
          "data": {
            "text/plain": [
              "<OptimizationStatus.OPTIMAL: 0>"
            ]
          },
          "metadata": {
            "tags": []
          },
          "execution_count": 67
        }
      ]
    },
    {
      "cell_type": "code",
      "metadata": {
        "colab": {
          "base_uri": "https://localhost:8080/"
        },
        "id": "RkjPht4ZcXIY",
        "outputId": "5da80783-0360-4caf-aabe-a0c0b83ddeba"
      },
      "source": [
        "print('Optimal Solution: {}'.format([x[0].x]))"
      ],
      "execution_count": 68,
      "outputs": [
        {
          "output_type": "stream",
          "text": [
            "Optimal Solution: [56.000000000000014]\n"
          ],
          "name": "stdout"
        }
      ]
    }
  ]
}