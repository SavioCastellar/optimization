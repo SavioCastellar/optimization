{
  "nbformat": 4,
  "nbformat_minor": 0,
  "metadata": {
    "colab": {
      "name": "g.ipynb",
      "provenance": [],
      "collapsed_sections": [],
      "authorship_tag": "ABX9TyMcu3LHQ+waaaO0UtyaVBaO",
      "include_colab_link": true
    },
    "kernelspec": {
      "name": "python3",
      "display_name": "Python 3"
    }
  },
  "cells": [
    {
      "cell_type": "markdown",
      "metadata": {
        "id": "view-in-github",
        "colab_type": "text"
      },
      "source": [
        "<a href=\"https://colab.research.google.com/github/SavioCastellar/optimization/blob/lista1/g.ipynb\" target=\"_parent\"><img src=\"https://colab.research.google.com/assets/colab-badge.svg\" alt=\"Open In Colab\"/></a>"
      ]
    },
    {
      "cell_type": "markdown",
      "metadata": {
        "id": "b-xTZigdb3ti"
      },
      "source": [
        "###cfg"
      ]
    },
    {
      "cell_type": "code",
      "metadata": {
        "colab": {
          "base_uri": "https://localhost:8080/"
        },
        "id": "0JIurIhmbtpM",
        "outputId": "72f9a9af-6138-42ed-ceb7-632a4055b9f4"
      },
      "source": [
        "!pip install mip"
      ],
      "execution_count": 25,
      "outputs": [
        {
          "output_type": "stream",
          "text": [
            "Requirement already satisfied: mip in /usr/local/lib/python3.6/dist-packages (1.13.0)\n",
            "Requirement already satisfied: cffi in /usr/local/lib/python3.6/dist-packages (from mip) (1.14.4)\n",
            "Requirement already satisfied: pycparser in /usr/local/lib/python3.6/dist-packages (from cffi->mip) (2.20)\n"
          ],
          "name": "stdout"
        }
      ]
    },
    {
      "cell_type": "code",
      "metadata": {
        "id": "6J5cgs2Gb6dR"
      },
      "source": [
        "from mip import Model, xsum, MAXIMIZE, INTEGER"
      ],
      "execution_count": 26,
      "outputs": []
    },
    {
      "cell_type": "markdown",
      "metadata": {
        "id": "8NpFd8T_cInw"
      },
      "source": [
        "### Problema das Equipes de Engenharia"
      ]
    },
    {
      "cell_type": "markdown",
      "metadata": {
        "id": "3501GHZLcORZ"
      },
      "source": [
        "Variáveis"
      ]
    },
    {
      "cell_type": "code",
      "metadata": {
        "id": "9FqPAr0fcN7K"
      },
      "source": [
        "nvars = 2\r\n",
        "\r\n",
        "m = Model('Campeonato', sense=MAXIMIZE)\r\n",
        "\r\n",
        "x = [m.add_var(var_type = INTEGER,lb=0, ub=100) for i in range(nvars)]\r\n",
        "G = m.add_var(lb=0, ub=100)"
      ],
      "execution_count": 27,
      "outputs": []
    },
    {
      "cell_type": "markdown",
      "metadata": {
        "id": "j2ASgKy8cPfY"
      },
      "source": [
        "Função objetivo"
      ]
    },
    {
      "cell_type": "code",
      "metadata": {
        "id": "_Pr_4NtgcRkB"
      },
      "source": [
        "m.objective = G"
      ],
      "execution_count": 28,
      "outputs": []
    },
    {
      "cell_type": "markdown",
      "metadata": {
        "id": "cXk03k28cRzY"
      },
      "source": [
        "Restrições"
      ]
    },
    {
      "cell_type": "code",
      "metadata": {
        "id": "7WgH5KtMcTQ_"
      },
      "source": [
        "m += x[1] == 100 - x[0]      # Relação entre x1 e x2\r\n",
        "m += -60*x[1] + x[0] <= 200     # Equipe B utilizando estabilizador\r\n",
        "m += 40*x[1] + x[0] <= 800      # Equipe B normal"
      ],
      "execution_count": 29,
      "outputs": []
    },
    {
      "cell_type": "markdown",
      "metadata": {
        "id": "rir0hGOicTq0"
      },
      "source": [
        "Execução"
      ]
    },
    {
      "cell_type": "code",
      "metadata": {
        "colab": {
          "base_uri": "https://localhost:8080/"
        },
        "id": "d6FNdMj6cVF5",
        "outputId": "0f323d99-87be-4416-8b20-d46e8891032f"
      },
      "source": [
        "m.optimize()"
      ],
      "execution_count": 30,
      "outputs": [
        {
          "output_type": "execute_result",
          "data": {
            "text/plain": [
              "<OptimizationStatus.OPTIMAL: 0>"
            ]
          },
          "metadata": {
            "tags": []
          },
          "execution_count": 30
        }
      ]
    },
    {
      "cell_type": "code",
      "metadata": {
        "colab": {
          "base_uri": "https://localhost:8080/"
        },
        "id": "RkjPht4ZcXIY",
        "outputId": "65fd655e-c845-4535-9cff-ff3454fd24e0"
      },
      "source": [
        "print('Optimal Solution: {}'.format([x[i].x for i in range(nvars)]))"
      ],
      "execution_count": 31,
      "outputs": [
        {
          "output_type": "stream",
          "text": [
            "Optimal Solution: [100.0, 0.0]\n"
          ],
          "name": "stdout"
        }
      ]
    }
  ]
}