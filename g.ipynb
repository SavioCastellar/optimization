{
  "nbformat": 4,
  "nbformat_minor": 0,
  "metadata": {
    "colab": {
      "name": "g.ipynb",
      "provenance": [],
      "collapsed_sections": [],
      "authorship_tag": "ABX9TyMZO+78DxYlZGnmWsdF5hLL",
      "include_colab_link": true
    },
    "kernelspec": {
      "name": "python3",
      "display_name": "Python 3"
    }
  },
  "cells": [
    {
      "cell_type": "markdown",
      "metadata": {
        "id": "view-in-github",
        "colab_type": "text"
      },
      "source": [
        "<a href=\"https://colab.research.google.com/github/SavioCastellar/optimization/blob/lista1/g.ipynb\" target=\"_parent\"><img src=\"https://colab.research.google.com/assets/colab-badge.svg\" alt=\"Open In Colab\"/></a>"
      ]
    },
    {
      "cell_type": "markdown",
      "metadata": {
        "id": "b-xTZigdb3ti"
      },
      "source": [
        "###cfg"
      ]
    },
    {
      "cell_type": "code",
      "metadata": {
        "colab": {
          "base_uri": "https://localhost:8080/"
        },
        "id": "0JIurIhmbtpM",
        "outputId": "609d94ee-8cc3-41aa-fac8-77cfbe2bd72a"
      },
      "source": [
        "!pip install mip"
      ],
      "execution_count": 1,
      "outputs": [
        {
          "output_type": "stream",
          "text": [
            "Requirement already satisfied: mip in /usr/local/lib/python3.6/dist-packages (1.13.0)\n",
            "Requirement already satisfied: cffi in /usr/local/lib/python3.6/dist-packages (from mip) (1.14.4)\n",
            "Requirement already satisfied: pycparser in /usr/local/lib/python3.6/dist-packages (from cffi->mip) (2.20)\n"
          ],
          "name": "stdout"
        }
      ]
    },
    {
      "cell_type": "code",
      "metadata": {
        "id": "6J5cgs2Gb6dR"
      },
      "source": [
        "from mip import Model, xsum, MAXIMIZE, INTEGER"
      ],
      "execution_count": 2,
      "outputs": []
    },
    {
      "cell_type": "markdown",
      "metadata": {
        "id": "8NpFd8T_cInw"
      },
      "source": [
        "### Problema das Equipes de Engenharia"
      ]
    },
    {
      "cell_type": "markdown",
      "metadata": {
        "id": "3501GHZLcORZ"
      },
      "source": [
        "Variáveis"
      ]
    },
    {
      "cell_type": "code",
      "metadata": {
        "id": "9FqPAr0fcN7K"
      },
      "source": [
        "nvars = 2\r\n",
        "\r\n",
        "m = Model('Campeonato', sense=MAXIMIZE)\r\n",
        "\r\n",
        "v = 56\r\n",
        "# v = menor porcentagem de vitória utilizando determinado método (x1 ou x2)\r\n",
        "# tentei usar v = m.add_var(var_type = INTEGER,lb=0, ub=100) - não funcionou\r\n",
        "# copiei o valor de 'G' utilizado na resolução do livro, para tentar chegar em uma solução\r\n",
        "# não sei se a utilização desse valor faz sentido\r\n",
        "\r\n",
        "x = [m.add_var(var_type = INTEGER,lb=0, ub=100) for i in range(nvars)]\r\n",
        "# x1 = porcentagem da utilização do aerofólio pela equipe A\r\n",
        "# x2 = porcentagem da não utilização do aerofólio pela equipe A"
      ],
      "execution_count": 3,
      "outputs": []
    },
    {
      "cell_type": "markdown",
      "metadata": {
        "id": "j2ASgKy8cPfY"
      },
      "source": [
        "Função objetivo"
      ]
    },
    {
      "cell_type": "code",
      "metadata": {
        "id": "_Pr_4NtgcRkB"
      },
      "source": [
        "m.objective = v      # objetivo = maximizar a porcentagem de vitórias 'v'"
      ],
      "execution_count": 4,
      "outputs": []
    },
    {
      "cell_type": "markdown",
      "metadata": {
        "id": "cXk03k28cRzY"
      },
      "source": [
        "Restrições"
      ]
    },
    {
      "cell_type": "code",
      "metadata": {
        "id": "7WgH5KtMcTQ_"
      },
      "source": [
        "m += x[1] == 100 - x[0]      # Relação entre x1 e x2\r\n",
        "m += -60*x[0] + v <= 200     # Equipe B utilizando estabilizador\r\n",
        "m += 40*x[0] + v <= 800      # Equipe B normal"
      ],
      "execution_count": 5,
      "outputs": []
    },
    {
      "cell_type": "markdown",
      "metadata": {
        "id": "rir0hGOicTq0"
      },
      "source": [
        "Execução"
      ]
    },
    {
      "cell_type": "code",
      "metadata": {
        "colab": {
          "base_uri": "https://localhost:8080/"
        },
        "id": "d6FNdMj6cVF5",
        "outputId": "99995fec-b314-4e3f-b97d-8f6a9c49a89b"
      },
      "source": [
        "m.optimize()"
      ],
      "execution_count": 6,
      "outputs": [
        {
          "output_type": "execute_result",
          "data": {
            "text/plain": [
              "<OptimizationStatus.OPTIMAL: 0>"
            ]
          },
          "metadata": {
            "tags": []
          },
          "execution_count": 6
        }
      ]
    },
    {
      "cell_type": "code",
      "metadata": {
        "colab": {
          "base_uri": "https://localhost:8080/"
        },
        "id": "RkjPht4ZcXIY",
        "outputId": "0af84a15-45a9-4b81-934c-f854c13f4d0f"
      },
      "source": [
        "print('Optimal Solution: {}'.format([x[i].x for i in range(nvars)]))"
      ],
      "execution_count": 7,
      "outputs": [
        {
          "output_type": "stream",
          "text": [
            "Optimal Solution: [18.0, 82.0]\n"
          ],
          "name": "stdout"
        }
      ]
    }
  ]
}