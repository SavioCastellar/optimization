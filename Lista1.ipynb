{
  "nbformat": 4,
  "nbformat_minor": 0,
  "metadata": {
    "colab": {
      "name": "Lista1.ipynb",
      "provenance": [],
      "collapsed_sections": [
        "v8WKxXd3fhM9",
        "rHqcha8ovSOT",
        "L1Tiv6rORQkU",
        "HjAWJ8dqRpyC",
        "xOKmJYMDdqB_"
      ],
      "authorship_tag": "ABX9TyNti5Z7q8okVovS70USfnVZ",
      "include_colab_link": true
    },
    "kernelspec": {
      "name": "python3",
      "display_name": "Python 3"
    }
  },
  "cells": [
    {
      "cell_type": "markdown",
      "metadata": {
        "id": "view-in-github",
        "colab_type": "text"
      },
      "source": [
        "<a href=\"https://colab.research.google.com/github/SavioCastellar/optimization/blob/main/Lista1.ipynb\" target=\"_parent\"><img src=\"https://colab.research.google.com/assets/colab-badge.svg\" alt=\"Open In Colab\"/></a>"
      ]
    },
    {
      "cell_type": "markdown",
      "metadata": {
        "id": "v8WKxXd3fhM9"
      },
      "source": [
        "### cfg"
      ]
    },
    {
      "cell_type": "code",
      "metadata": {
        "colab": {
          "base_uri": "https://localhost:8080/"
        },
        "id": "oo6OqJEBvNqL",
        "outputId": "c5933751-a237-4b80-f6eb-c33da2efac9d"
      },
      "source": [
        "!pip install mip"
      ],
      "execution_count": null,
      "outputs": [
        {
          "output_type": "stream",
          "text": [
            "Collecting mip\n",
            "\u001b[?25l  Downloading https://files.pythonhosted.org/packages/e5/7c/615a417b8b74dde4c3573f09c79612e3e0ed8c9b9488daf67e86cde350d2/mip-1.13.0-py3-none-any.whl (48.0MB)\n",
            "\u001b[K     |████████████████████████████████| 48.0MB 92kB/s \n",
            "\u001b[?25hRequirement already satisfied: cffi in /usr/local/lib/python3.6/dist-packages (from mip) (1.14.4)\n",
            "Requirement already satisfied: pycparser in /usr/local/lib/python3.6/dist-packages (from cffi->mip) (2.20)\n",
            "Installing collected packages: mip\n",
            "Successfully installed mip-1.13.0\n"
          ],
          "name": "stdout"
        }
      ]
    },
    {
      "cell_type": "code",
      "metadata": {
        "id": "IgpjO1aGv4kN"
      },
      "source": [
        "from mip import Model, xsum, INTEGER, MAXIMIZE, MINIMIZE"
      ],
      "execution_count": null,
      "outputs": []
    },
    {
      "cell_type": "markdown",
      "metadata": {
        "id": "rHqcha8ovSOT"
      },
      "source": [
        "## O Problema da Estampagem de Aço"
      ]
    },
    {
      "cell_type": "markdown",
      "metadata": {
        "id": "L1Tiv6rORQkU"
      },
      "source": [
        "### Definindo as variáveis"
      ]
    },
    {
      "cell_type": "code",
      "metadata": {
        "id": "YItHPM6iwKTq"
      },
      "source": [
        "nvars = 2\r\n",
        "obj_coef = [70, 90]\r\n",
        "g_coef = [1, 3]\r\n",
        "g_val = [680,0]"
      ],
      "execution_count": null,
      "outputs": []
    },
    {
      "cell_type": "code",
      "metadata": {
        "id": "Bv_6RJKgcA0K"
      },
      "source": [
        "m = Model('Estampagem',sense=MAXIMIZE)"
      ],
      "execution_count": null,
      "outputs": []
    },
    {
      "cell_type": "code",
      "metadata": {
        "id": "AMmcuiowcCM5"
      },
      "source": [
        "x = [m.add_var(var_type=INTEGER,lb=0) for i in range(2)]"
      ],
      "execution_count": null,
      "outputs": []
    },
    {
      "cell_type": "markdown",
      "metadata": {
        "id": "NKHmFXwDRVGo"
      },
      "source": [
        "### Função objetiva"
      ]
    },
    {
      "cell_type": "code",
      "metadata": {
        "id": "N8ssuxGU4Obf"
      },
      "source": [
        "m.objective = xsum(obj_coef[i]*x[i] for i in range(nvars))"
      ],
      "execution_count": null,
      "outputs": []
    },
    {
      "cell_type": "markdown",
      "metadata": {
        "id": "sPOiZWJIN_S2"
      },
      "source": [
        "### Restrições"
      ]
    },
    {
      "cell_type": "code",
      "metadata": {
        "id": "BUrDOICRA-gb"
      },
      "source": [
        "m += xsum(x[i] for i in range(nvars)) <= 680"
      ],
      "execution_count": null,
      "outputs": []
    },
    {
      "cell_type": "code",
      "metadata": {
        "id": "pB8htRo1cSgc"
      },
      "source": [
        "m += x[1] - 3*x[0] <= 0"
      ],
      "execution_count": null,
      "outputs": []
    },
    {
      "cell_type": "markdown",
      "metadata": {
        "id": "gnysTSUxPeRS"
      },
      "source": [
        "### Execução"
      ]
    },
    {
      "cell_type": "code",
      "metadata": {
        "id": "_IedkPPbB6jV",
        "colab": {
          "base_uri": "https://localhost:8080/"
        },
        "outputId": "af26443b-cf42-486c-93c8-415a77875e6e"
      },
      "source": [
        "m.optimize()"
      ],
      "execution_count": null,
      "outputs": [
        {
          "output_type": "execute_result",
          "data": {
            "text/plain": [
              "<OptimizationStatus.OPTIMAL: 0>"
            ]
          },
          "metadata": {
            "tags": []
          },
          "execution_count": 9
        }
      ]
    },
    {
      "cell_type": "code",
      "metadata": {
        "id": "f0oIF8B6B8T9",
        "colab": {
          "base_uri": "https://localhost:8080/"
        },
        "outputId": "5793e843-a8bb-4b2e-fb40-b1bf9876944f"
      },
      "source": [
        "print('Optimal Solution: {}'.format([x[i].x for i in range(nvars)]))"
      ],
      "execution_count": null,
      "outputs": [
        {
          "output_type": "stream",
          "text": [
            "Optimal Solution: [170.0, 510.0]\n"
          ],
          "name": "stdout"
        }
      ]
    },
    {
      "cell_type": "markdown",
      "metadata": {
        "id": "HjAWJ8dqRpyC"
      },
      "source": [
        "## O Problema dos Fertilizantes"
      ]
    },
    {
      "cell_type": "markdown",
      "metadata": {
        "id": "cpQ2SAqET7lJ"
      },
      "source": [
        "Definindo as variáveis"
      ]
    },
    {
      "cell_type": "code",
      "metadata": {
        "id": "GzDUhP0zTQqe"
      },
      "source": [
        "nvars = 3\r\n",
        "obj_coef = [50, 40, 60]\r\n",
        "\r\n",
        "m = Model('Fertilizantes', sense=MINIMIZE)\r\n",
        "\r\n",
        "x = [m.add_var(var_type=INTEGER,lb=0) for i in range(3)]"
      ],
      "execution_count": null,
      "outputs": []
    },
    {
      "cell_type": "markdown",
      "metadata": {
        "id": "y0Scxf9RT_c5"
      },
      "source": [
        "Função objetiva"
      ]
    },
    {
      "cell_type": "code",
      "metadata": {
        "id": "rXtN5HAwT6Qa"
      },
      "source": [
        "m.objective = xsum(obj_coef[i]*x[i] for i in range(nvars))"
      ],
      "execution_count": null,
      "outputs": []
    },
    {
      "cell_type": "markdown",
      "metadata": {
        "id": "M508x8Q8UaJa"
      },
      "source": [
        "Restrições"
      ]
    },
    {
      "cell_type": "code",
      "metadata": {
        "id": "hPoCm0fNUcwS"
      },
      "source": [
        "m += x[0] >= 5000\r\n",
        "m += xsum(x[i] for i in range(nvars)) >= 12000\r\n",
        "m += xsum(x[i] for i in range(nvars)) <= 15000\r\n",
        "m += 10*x[0]+5*x[1]+10*x[2] >= 100000"
      ],
      "execution_count": null,
      "outputs": []
    },
    {
      "cell_type": "markdown",
      "metadata": {
        "id": "MDFwtWJUV7v6"
      },
      "source": [
        "Execução"
      ]
    },
    {
      "cell_type": "code",
      "metadata": {
        "colab": {
          "base_uri": "https://localhost:8080/"
        },
        "id": "ayPtISN3WAQi",
        "outputId": "035888c9-8d25-4d9e-85d7-703164c12195"
      },
      "source": [
        "m.optimize()"
      ],
      "execution_count": null,
      "outputs": [
        {
          "output_type": "execute_result",
          "data": {
            "text/plain": [
              "<OptimizationStatus.OPTIMAL: 0>"
            ]
          },
          "metadata": {
            "tags": []
          },
          "execution_count": 14
        }
      ]
    },
    {
      "cell_type": "code",
      "metadata": {
        "colab": {
          "base_uri": "https://localhost:8080/"
        },
        "id": "87D1-kaxWDMt",
        "outputId": "36a60395-a226-48c9-89c8-b2b75111ee63"
      },
      "source": [
        "print('Optimal Solution: {}'.format([x[i].x for i in range (nvars)]))"
      ],
      "execution_count": null,
      "outputs": [
        {
          "output_type": "stream",
          "text": [
            "Optimal Solution: [8000.0, 4000.0, 0.0]\n"
          ],
          "name": "stdout"
        }
      ]
    },
    {
      "cell_type": "markdown",
      "metadata": {
        "id": "xOKmJYMDdqB_"
      },
      "source": [
        "## O Problema do Custo de Transporte"
      ]
    },
    {
      "cell_type": "markdown",
      "metadata": {
        "id": "4g12RoC8AUmn"
      },
      "source": [
        "Definir variáveis"
      ]
    },
    {
      "cell_type": "code",
      "metadata": {
        "id": "3MI48EeTd6Me"
      },
      "source": [
        "cost = [[40, 50, 55, 9999999],\r\n",
        "        [9999999, 60, 30, 50]]\r\n",
        "\r\n",
        "m = Model('Casacos', sense=MINIMIZE)\r\n",
        "\r\n",
        "x = [[m.add_var(var_type=INTEGER,lb=0) for j in range(4)] for i in range(2)]"
      ],
      "execution_count": null,
      "outputs": []
    },
    {
      "cell_type": "markdown",
      "metadata": {
        "id": "A0DTW8QL_amr"
      },
      "source": [
        "Função objetivo"
      ]
    },
    {
      "cell_type": "code",
      "metadata": {
        "id": "yvFr6ufZ_aH9"
      },
      "source": [
        "m.objective = xsum(cost[i][j]*x[i][j] for i in range(2) for j in range(4))"
      ],
      "execution_count": null,
      "outputs": []
    },
    {
      "cell_type": "markdown",
      "metadata": {
        "id": "cMXX1dI4ABQK"
      },
      "source": [
        "Restrições"
      ]
    },
    {
      "cell_type": "code",
      "metadata": {
        "id": "wCoDx46dADJc"
      },
      "source": [
        "m += x[1][0] == 0\r\n",
        "m += x[0][3] == 0\r\n",
        "m += xsum(x[0][j] for j in range(4)) == 6000\r\n",
        "m += xsum(x[1][j] for j in range(4)) == 9000\r\n",
        "m += x[0][0] <= 2500\r\n",
        "m += x[1][3] <= 3500 \r\n",
        "m += xsum(x[i][1] for i in range(2)) <= 4500\r\n",
        "m += xsum(x[i][2] for i in range(2)) <= 5500"
      ],
      "execution_count": null,
      "outputs": []
    },
    {
      "cell_type": "markdown",
      "metadata": {
        "id": "QPNkzeA7AHAY"
      },
      "source": [
        "Execução"
      ]
    },
    {
      "cell_type": "code",
      "metadata": {
        "colab": {
          "base_uri": "https://localhost:8080/"
        },
        "id": "9WcnAy3lAJBU",
        "outputId": "14bb579a-1e89-47f2-875f-3ab7c8b20155"
      },
      "source": [
        "m.optimize()"
      ],
      "execution_count": null,
      "outputs": [
        {
          "output_type": "execute_result",
          "data": {
            "text/plain": [
              "<OptimizationStatus.OPTIMAL: 0>"
            ]
          },
          "metadata": {
            "tags": []
          },
          "execution_count": 19
        }
      ]
    },
    {
      "cell_type": "code",
      "metadata": {
        "colab": {
          "base_uri": "https://localhost:8080/"
        },
        "id": "o4LOLTHJAOIJ",
        "outputId": "d4d60af1-15b4-4593-9e82-857b1421ebd2"
      },
      "source": [
        "print('Optimal Solution: {}'.format([x[i][j].x for i in range(2) for j in range(4)]))"
      ],
      "execution_count": null,
      "outputs": [
        {
          "output_type": "stream",
          "text": [
            "Optimal Solution: [2500.0, 3500.0, 0.0, 0.0, 0.0, 0.0, 5500.0, 3500.0]\n"
          ],
          "name": "stdout"
        }
      ]
    },
    {
      "cell_type": "markdown",
      "metadata": {
        "id": "L7SLI_nAB0Fg"
      },
      "source": [
        "## O Problema das Ligas Metálicas"
      ]
    },
    {
      "cell_type": "markdown",
      "metadata": {
        "id": "avNMhbn7CBj2"
      },
      "source": [
        "Definir variáveis"
      ]
    },
    {
      "cell_type": "code",
      "metadata": {
        "id": "l7Y6FxgrB_1V"
      },
      "source": [
        "nvars = 2\r\n",
        "obj_coef = [3000, 5000]\r\n",
        "\r\n",
        "m = Model('Ligas',sense=MAXIMIZE)\r\n",
        "\r\n",
        "x = [m.add_var(var_type=INTEGER,lb=0) for i in range(2)]"
      ],
      "execution_count": null,
      "outputs": []
    },
    {
      "cell_type": "markdown",
      "metadata": {
        "id": "DxwqsYT1NCYo"
      },
      "source": [
        "Função objetiva"
      ]
    },
    {
      "cell_type": "code",
      "metadata": {
        "id": "hY8GFOOUNG48"
      },
      "source": [
        "m.objective = xsum(obj_coef[i]*x[i] for i in range(nvars))"
      ],
      "execution_count": null,
      "outputs": []
    },
    {
      "cell_type": "markdown",
      "metadata": {
        "id": "jOFVG-oJNTxY"
      },
      "source": [
        "Restrições"
      ]
    },
    {
      "cell_type": "code",
      "metadata": {
        "id": "CoBzgF_SRo26"
      },
      "source": [
        "m += 0.5*x[0] + 0.2*x[1] <= 16\r\n",
        "m += 0.25*x[0] + 0.3*x[1] <= 11\r\n",
        "m += 0.25*x[0] + 0.5*x[1] <= 15"
      ],
      "execution_count": null,
      "outputs": []
    },
    {
      "cell_type": "markdown",
      "metadata": {
        "id": "yR6wHnj-P7sz"
      },
      "source": [
        "Execução"
      ]
    },
    {
      "cell_type": "code",
      "metadata": {
        "colab": {
          "base_uri": "https://localhost:8080/"
        },
        "id": "1wQ2E9faQC4c",
        "outputId": "e9c9863f-d46e-4580-e3c1-d38afd8b21de"
      },
      "source": [
        "m.optimize()"
      ],
      "execution_count": null,
      "outputs": [
        {
          "output_type": "execute_result",
          "data": {
            "text/plain": [
              "<OptimizationStatus.OPTIMAL: 0>"
            ]
          },
          "metadata": {
            "tags": []
          },
          "execution_count": 24
        }
      ]
    },
    {
      "cell_type": "code",
      "metadata": {
        "colab": {
          "base_uri": "https://localhost:8080/"
        },
        "id": "6bo81NooQH5N",
        "outputId": "38ec88c1-5660-44d2-f93d-b5330fe77273"
      },
      "source": [
        "print('Optimal Solution: {}'.format([x[i].x for i in range(nvars)]))"
      ],
      "execution_count": null,
      "outputs": [
        {
          "output_type": "stream",
          "text": [
            "Optimal Solution: [20.0, 20.0]\n"
          ],
          "name": "stdout"
        }
      ]
    },
    {
      "cell_type": "markdown",
      "metadata": {
        "id": "M56lsRS4ZVpM"
      },
      "source": [
        "## O Problema da Dieta"
      ]
    },
    {
      "cell_type": "markdown",
      "metadata": {
        "id": "1Yqplt78_zbA"
      },
      "source": [
        "Variáveis"
      ]
    },
    {
      "cell_type": "code",
      "metadata": {
        "id": "0rgisv6bZb4B"
      },
      "source": [
        "nvars = 4\r\n",
        "obj_coef = [2, 4, 1.5, 1]\r\n",
        "g_coef = [[2, 2, 10, 20],[50, 20, 10, 30],[80, 70, 10, 80]]\r\n",
        "g_val = [11, 70, 250]\r\n",
        "\r\n",
        "m = Model('Dieta', sense=MINIMIZE)\r\n",
        "\r\n",
        "x = [m.add_var(var_type=INTEGER,lb=0) for i in range(4)]"
      ],
      "execution_count": null,
      "outputs": []
    },
    {
      "cell_type": "markdown",
      "metadata": {
        "id": "L8pZy0fJBAS1"
      },
      "source": [
        "Função objetivo"
      ]
    },
    {
      "cell_type": "code",
      "metadata": {
        "id": "i6Y7XAFJBD4d"
      },
      "source": [
        "m.objective = xsum(obj_coef[i]*x[i] for i in range(nvars))"
      ],
      "execution_count": null,
      "outputs": []
    },
    {
      "cell_type": "markdown",
      "metadata": {
        "id": "_lxekD6XBj9d"
      },
      "source": [
        "Restrições\r\n",
        "\r\n",
        "*//Como acessar cada lista do g_coef?*"
      ]
    },
    {
      "cell_type": "code",
      "metadata": {
        "id": "_yxd3miUBmzj"
      },
      "source": [
        "m += 2*x[0] + 2*x[1] + 10*x[2] +20*x[3] >= 11\r\n",
        "m += 50*x[0] + 20*x[1] + 10*x[2] +30*x[3] >= 70\r\n",
        "m += 80*x[0] + 70*x[1] + 10*x[2] +80*x[3] >= 250\r\n"
      ],
      "execution_count": null,
      "outputs": []
    },
    {
      "cell_type": "markdown",
      "metadata": {
        "id": "aT9MxoWLIdz_"
      },
      "source": [
        "Execução"
      ]
    },
    {
      "cell_type": "code",
      "metadata": {
        "colab": {
          "base_uri": "https://localhost:8080/"
        },
        "id": "j3TgjsMYIgP9",
        "outputId": "4e185490-af88-4ec2-c706-aa92f53b6a14"
      },
      "source": [
        "m.optimize()"
      ],
      "execution_count": null,
      "outputs": [
        {
          "output_type": "execute_result",
          "data": {
            "text/plain": [
              "<OptimizationStatus.OPTIMAL: 0>"
            ]
          },
          "metadata": {
            "tags": []
          },
          "execution_count": 29
        }
      ]
    },
    {
      "cell_type": "code",
      "metadata": {
        "colab": {
          "base_uri": "https://localhost:8080/"
        },
        "id": "SKia-wUkIkJz",
        "outputId": "f5baa738-115c-4e95-a389-92a930f71d4b"
      },
      "source": [
        "print('Optimal Solution: {}'.format([x[i].x for i in range(nvars)]))"
      ],
      "execution_count": null,
      "outputs": [
        {
          "output_type": "stream",
          "text": [
            "Optimal Solution: [0.0, 0.0, 0.0, 4.0]\n"
          ],
          "name": "stdout"
        }
      ]
    }
  ]
}