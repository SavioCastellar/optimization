{
  "nbformat": 4,
  "nbformat_minor": 0,
  "metadata": {
    "colab": {
      "name": "f.ipynb",
      "provenance": [],
      "collapsed_sections": [],
      "authorship_tag": "ABX9TyOOB7G8Qx9aPlfnBnLe9kTo",
      "include_colab_link": true
    },
    "kernelspec": {
      "name": "python3",
      "display_name": "Python 3"
    }
  },
  "cells": [
    {
      "cell_type": "markdown",
      "metadata": {
        "id": "view-in-github",
        "colab_type": "text"
      },
      "source": [
        "<a href=\"https://colab.research.google.com/github/SavioCastellar/optimization/blob/lista1/f.ipynb\" target=\"_parent\"><img src=\"https://colab.research.google.com/assets/colab-badge.svg\" alt=\"Open In Colab\"/></a>"
      ]
    },
    {
      "cell_type": "markdown",
      "metadata": {
        "id": "hC9gt_pRfodT"
      },
      "source": [
        "###cfg"
      ]
    },
    {
      "cell_type": "code",
      "metadata": {
        "colab": {
          "base_uri": "https://localhost:8080/"
        },
        "id": "oo6OqJEBvNqL",
        "outputId": "f49eb9ba-1d86-4181-edac-e7956e359fc1"
      },
      "source": [
        "!pip install mip"
      ],
      "execution_count": 5,
      "outputs": [
        {
          "output_type": "stream",
          "text": [
            "Collecting mip\n",
            "\u001b[?25l  Downloading https://files.pythonhosted.org/packages/e5/7c/615a417b8b74dde4c3573f09c79612e3e0ed8c9b9488daf67e86cde350d2/mip-1.13.0-py3-none-any.whl (48.0MB)\n",
            "\u001b[K     |████████████████████████████████| 48.0MB 102kB/s \n",
            "\u001b[?25hRequirement already satisfied: cffi in /usr/local/lib/python3.6/dist-packages (from mip) (1.14.4)\n",
            "Requirement already satisfied: pycparser in /usr/local/lib/python3.6/dist-packages (from cffi->mip) (2.20)\n",
            "Installing collected packages: mip\n",
            "Successfully installed mip-1.13.0\n"
          ],
          "name": "stdout"
        }
      ]
    },
    {
      "cell_type": "code",
      "metadata": {
        "id": "IgpjO1aGv4kN"
      },
      "source": [
        "from mip import Model, xsum, INTEGER, MAXIMIZE, MINIMIZE"
      ],
      "execution_count": 6,
      "outputs": []
    },
    {
      "cell_type": "markdown",
      "metadata": {
        "id": "33ve37lqp92M"
      },
      "source": [
        "###Problema da Cooperativa Agrícola"
      ]
    },
    {
      "cell_type": "markdown",
      "metadata": {
        "id": "fyrKMk07rKVM"
      },
      "source": [
        "Variáveis"
      ]
    },
    {
      "cell_type": "code",
      "metadata": {
        "id": "eDRubnCoqCiE"
      },
      "source": [
        "nvars = 3\r\n",
        "\r\n",
        "a = [5.5, 4, 3.5]\r\n",
        "l = [5000, 4000, 1800]\r\n",
        "\r\n",
        "m = Model('Cooperativa', sense=MAXIMIZE)\r\n",
        "\r\n",
        "x = [[m.add_var(var_type=INTEGER,lb=0) for j in range(nvars)] for i in range(nvars)]\r\n",
        "#x = [[m.add_var(var_type=INTEGER,lb=0) for j in range(4)] for i in range(2)]"
      ],
      "execution_count": 7,
      "outputs": []
    },
    {
      "cell_type": "markdown",
      "metadata": {
        "id": "ObxmSitxrMIB"
      },
      "source": [
        "Função objetivo"
      ]
    },
    {
      "cell_type": "code",
      "metadata": {
        "id": "uPKZW7CrrOrQ"
      },
      "source": [
        "m.objective = 5000*xsum(x[i][0] for i in range(nvars))+4000*xsum(x[i][1] for i in range(nvars))+1800*xsum(x[i][2] for i in range(nvars))\r\n",
        "#m.objective = xsum(l[i]*xsum(x[i][j] for i in range(nvars) for j in range(nvars)))"
      ],
      "execution_count": 34,
      "outputs": []
    },
    {
      "cell_type": "markdown",
      "metadata": {
        "id": "SvS7h32gtHx9"
      },
      "source": [
        "Restrições"
      ]
    },
    {
      "cell_type": "code",
      "metadata": {
        "id": "QZ41cFgytK15"
      },
      "source": [
        "m += xsum(x[0][j] for j in range(nvars)) <= 400\r\n",
        "m += xsum(x[1][j] for j in range(nvars)) <= 650\r\n",
        "m += xsum(x[2][j] for j in range(nvars)) <= 350\r\n",
        "\r\n",
        "m += xsum(x[i][0] for i in range(nvars)) <= 660\r\n",
        "m += xsum(x[i][1] for i in range(nvars)) <= 880\r\n",
        "m += xsum(x[i][2] for i in range(nvars)) <= 400\r\n",
        "\r\n",
        "m += xsum(a[j]*x[0][j] for j in range(nvars)) <= 1800\r\n",
        "m += xsum(a[j]*x[1][j] for j in range(nvars)) <= 2200\r\n",
        "m += xsum(a[j]*x[2][j] for j in range(nvars)) <= 950\r\n",
        "\r\n",
        "m += xsum(x[0][j] for j in range(nvars))/400 == xsum(x[1][j] for j in range(nvars))/650 == xsum(x[2][j] for j in range(nvars))/350"
      ],
      "execution_count": 35,
      "outputs": []
    },
    {
      "cell_type": "code",
      "metadata": {
        "id": "EEgz32TmT_Uj"
      },
      "source": [
        "#m += 91*xsum(x[0][j] for j in range(nvars)) == 56*xsum(x[1][j] for j in range(nvars)) == 104*xsum(x[2][j] for j in range(nvars))"
      ],
      "execution_count": null,
      "outputs": []
    },
    {
      "cell_type": "markdown",
      "metadata": {
        "id": "_p7qcKWqvIxD"
      },
      "source": [
        "Execução"
      ]
    },
    {
      "cell_type": "code",
      "metadata": {
        "colab": {
          "base_uri": "https://localhost:8080/"
        },
        "id": "qTmCU0iOvLoM",
        "outputId": "26b0fedb-54f3-4239-ef81-6521ed0be09b"
      },
      "source": [
        "m.optimize()"
      ],
      "execution_count": 36,
      "outputs": [
        {
          "output_type": "execute_result",
          "data": {
            "text/plain": [
              "<OptimizationStatus.OPTIMAL: 0>"
            ]
          },
          "metadata": {
            "tags": []
          },
          "execution_count": 36
        }
      ]
    },
    {
      "cell_type": "code",
      "metadata": {
        "colab": {
          "base_uri": "https://localhost:8080/"
        },
        "id": "wvNrF8GGvYec",
        "outputId": "832236ca-900e-45f7-b279-6ecc204a38cb"
      },
      "source": [
        "print('Optimal Solution: {}'.format([x[i][j].x for i in range(nvars) for j in range(nvars)]))"
      ],
      "execution_count": 37,
      "outputs": [
        {
          "output_type": "stream",
          "text": [
            "Optimal Solution: [133.0, 267.0, 0.0, 288.0, 154.0, 0.0, 0.0, 234.0, 4.0]\n"
          ],
          "name": "stdout"
        }
      ]
    }
  ]
}